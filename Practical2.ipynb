{
 "cells": [
  {
   "cell_type": "code",
   "execution_count": 14,
   "id": "38336eb4-9371-4d5a-aa84-ff8b31aa091c",
   "metadata": {},
   "outputs": [
    {
     "name": "stdin",
     "output_type": "stream",
     "text": [
      "Enter x_centre:  0\n",
      "Enter y_centre:  0\n",
      "Enter radius:  4\n"
     ]
    },
    {
     "data": {
      "image/png": "[encoded data removed]",
      "text/plain": [
       "<Figure size 500x500 with 1 Axes>"
      ]
     },
     "metadata": {},
     "output_type": "display_data"
    }
   ],
   "source": [
    "import matplotlib.pyplot as plt\n",
    "import numpy as np\n",
    "\n",
    "def mid_point_circle_draw(x_centre, y_centre, r):\n",
    "    x = r\n",
    "    y = 0\n",
    "    points = []\n",
    "    # Printing the initial point on the axes after translation\n",
    "    points.append((x + x_centre, y + y_centre))\n",
    "    # When radius is zero, only a single point is printed\n",
    "    if r > 0:\n",
    "        points.append((-x + x_centre, -y + y_centre))\n",
    "        points.append((y + x_centre, x + y_centre))\n",
    "        points.append((-y + x_centre, -x + y_centre))\n",
    "    # Initialising the value of P\n",
    "    P = 1 - r\n",
    "    while x > y:\n",
    "        y += 1\n",
    "        # Mid-point inside or on the perimeter\n",
    "        if P <= 0:\n",
    "            P = P + 2 * y + 1\n",
    "        # Mid-point outside the perimeter\n",
    "        else:\n",
    "            x -= 1\n",
    "            P = P + 2 * y - 2 * x + 1\n",
    "        # All the perimeter points have already been printed\n",
    "        if x < y:\n",
    "            break\n",
    "        # Printing the generated point its reflection in the other octants after translation\n",
    "        points.append((x + x_centre, y + y_centre))\n",
    "        points.append((-x + x_centre, y + y_centre))\n",
    "        points.append((x + x_centre, -y + y_centre))\n",
    "        points.append((-x + x_centre, -y + y_centre))\n",
    "        # If the generated point is on the line x = y then the perimeter points have already been printed\n",
    "        if x != y:\n",
    "            points.append((y + x_centre, x + y_centre))\n",
    "            points.append((-y + x_centre, x + y_centre))\n",
    "            points.append((y + x_centre, -x + y_centre))\n",
    "            points.append((-y + x_centre, -x + y_centre))\n",
    "    return points\n",
    "\n",
    "def plot_circle(points):\n",
    "    plt.figure(figsize=(5,5))\n",
    "    plt.scatter(*zip(*points), marker='o')\n",
    "    plt.show()\n",
    "\n",
    "if __name__ == \"__main__\":\n",
    "    x_centre = int(input(\"Enter x_centre: \"))\n",
    "    y_centre = int(input(\"Enter y_centre: \"))\n",
    "    r = int(input(\"Enter radius: \"))\n",
    "    points = mid_point_circle_draw(x_centre, y_centre, r)\n",
    "    plot_circle(points)\n",
    "\n"
   ]
  },
  {
   "cell_type": "code",
   "execution_count": null,
   "id": "44994c72-55e5-485d-82d8-c36f96ed9fd7",
   "metadata": {},
   "outputs": [],
   "source": []
  }
 ],
 "metadata": {
  "kernelspec": {
   "display_name": "Python 3 (ipykernel)",
   "language": "python",
   "name": "python3"
  },
  "language_info": {
   "codemirror_mode": {
    "name": "ipython",
    "version": 3
   },
   "file_extension": ".py",
   "mimetype": "text/x-python",
   "name": "python",
   "nbconvert_exporter": "python",
   "pygments_lexer": "ipython3",
   "version": "3.12.0"
  }
 },
 "nbformat": 4,
 "nbformat_minor": 5
}
