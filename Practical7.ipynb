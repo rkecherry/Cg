{
 "cells": [
  {
   "cell_type": "code",
   "execution_count": 1,
   "id": "550daca4-6949-4efd-904a-10a3d02e2d48",
   "metadata": {},
   "outputs": [
    {
     "name": "stdout",
     "output_type": "stream",
     "text": [
      "After translation:  [3 5 7 1]\n",
      "After rotation:  [6.74264069 4.74264069 3.87867966 1.        ]\n",
      "After scaling:  [13.48528137  9.48528137  7.75735931  1.        ]\n",
      "After parallel projection:  [13.48528137  9.48528137  0.          1.        ]\n",
      "After perspective projection:  [13.48528137  9.48528137 -1.          1.        ]\n"
     ]
    }
   ],
   "source": [
    "import numpy as np\n",
    "def translate(point, tx, ty, tz):\n",
    "    transformation_matrix = np.array([[1, 0, 0, tx],\n",
    "                                      [0, 1, 0, ty],\n",
    "                                      [0, 0, 1, tz],\n",
    "                                      [0, 0, 0, 1]])\n",
    "    return np.dot(transformation_matrix, point)\n",
    "\n",
    "def rotate(point, ax, ay, az):\n",
    "    ax, ay, az = np.radians(ax), np.radians(ay), np.radians(az)\n",
    "    Rx = np.array([[1, 0, 0, 0],\n",
    "                   [0, np.cos(ax), -np.sin(ax), 0],\n",
    "                   [0, np.sin(ax), np.cos(ax), 0],\n",
    "                   [0, 0, 0, 1]])\n",
    "    Ry = np.array([[np.cos(ay), 0, np.sin(ay), 0],\n",
    "                   [0, 1, 0, 0],\n",
    "                   [-np.sin(ay), 0, np.cos(ay), 0],\n",
    "                   [0, 0, 0, 1]])\n",
    "    Rz = np.array([[np.cos(az), -np.sin(az), 0, 0],\n",
    "                   [np.sin(az), np.cos(az), 0, 0],\n",
    "                   [0, 0, 1, 0],\n",
    "                   [0, 0, 0, 1]])\n",
    "    R = np.dot(Rz, np.dot(Ry, Rx))\n",
    "    return np.dot(R, point)\n",
    "\n",
    "def scale(point, sx, sy, sz):\n",
    "    transformation_matrix = np.array([[sx, 0, 0, 0],\n",
    "                                      [0, sy, 0, 0],\n",
    "                                      [0, 0, sz, 0],\n",
    "                                      [0, 0, 0, 1]])\n",
    "    return np.dot(transformation_matrix, point)\n",
    "\n",
    "def parallel_project(point):\n",
    "    projection_matrix = np.array([[1, 0, 0, 0],\n",
    "                                  [0, 1, 0, 0],\n",
    "                                  [0, 0, 0, 0],\n",
    "                                  [0, 0, 0, 1]])\n",
    "    return np.dot(projection_matrix, point)\n",
    "\n",
    "def perspective_project(point, d):\n",
    "    projection_matrix = np.array([[1, 0, 0, 0],\n",
    "                                  [0, 1, 0, 0],\n",
    "                                  [0, 0, 1, -1/d],\n",
    "                                  [0, 0, 0, 1]])\n",
    "    return np.dot(projection_matrix, point)\n",
    "\n",
    "# Example usage:\n",
    "point = np.array([1, 2, 3, 1])  # Homogeneous coordinates\n",
    "\n",
    "point = translate(point, 2, 3, 4)\n",
    "print(\"After translation: \", point)\n",
    "\n",
    "point = rotate(point, 45, 45, 45)\n",
    "print(\"After rotation: \", point)\n",
    "\n",
    "point = scale(point, 2, 2, 2)\n",
    "print(\"After scaling: \", point)\n",
    "\n",
    "point = parallel_project(point)\n",
    "print(\"After parallel projection: \", point)\n",
    "\n",
    "point = perspective_project(point, 1)\n",
    "print(\"After perspective projection: \", point)\n"
   ]
  },
  {
   "cell_type": "code",
   "execution_count": null,
   "id": "ebddd4a0-9008-4f65-8df5-4492ac1ce406",
   "metadata": {},
   "outputs": [],
   "source": []
  }
 ],
 "metadata": {
  "kernelspec": {
   "display_name": "Python 3 (ipykernel)",
   "language": "python",
   "name": "python3"
  },
  "language_info": {
   "codemirror_mode": {
    "name": "ipython",
    "version": 3
   },
   "file_extension": ".py",
   "mimetype": "text/x-python",
   "name": "python",
   "nbconvert_exporter": "python",
   "pygments_lexer": "ipython3",
   "version": "3.12.0"
  }
 },
 "nbformat": 4,
 "nbformat_minor": 5
}
