{
 "cells": [
  {
   "cell_type": "code",
   "execution_count": null,
   "id": "def4b356-e9ab-4468-8190-63f186cb93e8",
   "metadata": {},
   "outputs": [],
   "source": [
    "# Python program for DDA line generation \n",
    "\n",
    "from matplotlib import pyplot as plt \n",
    "\n",
    "# DDA Function for line generation \n",
    "\n",
    "\n",
    "def DDA(x0, y0, x1, y1): \n",
    "\n",
    "\t# find absolute differences \n",
    "\tdx = abs(x0 - x1) \n",
    "\tdy = abs(y0 - y1) \n",
    "\n",
    "\t# find maximum difference \n",
    "\tsteps = max(dx, dy) \n",
    "\n",
    "\t# calculate the increment in x and y \n",
    "\txinc = dx/steps \n",
    "\tyinc = dy/steps \n",
    "\n",
    "\t# start with 1st point \n",
    "\tx = float(x0) \n",
    "\ty = float(y0) \n",
    "\n",
    "\t# make a list for coordinates \n",
    "\tx_coorinates = [] \n",
    "\ty_coorinates = [] \n",
    "\n",
    "\tfor i in range(steps): \n",
    "\t\t# append the x,y coordinates in respective list \n",
    "\t\tx_coorinates.append(x) \n",
    "\t\ty_coorinates.append(y) \n",
    "\n",
    "\t\t# increment the values \n",
    "\t\tx = x + xinc \n",
    "\t\ty = y + yinc \n",
    "\n",
    "\t# plot the line with coordinates list \n",
    "\tplt.plot(x_coorinates, y_coorinates, marker=\"o\", \n",
    "\t\t\tmarkersize=1, markerfacecolor=\"green\") \n",
    "\tplt.show() \n",
    "\n",
    "\n",
    "# Driver code \n",
    "if __name__ == \"__main__\": \n",
    "\n",
    "\t# coordinates of 1st point \n",
    "\tx0, y0 = 20, 20\n",
    "\n",
    "\t# coordinates of 2nd point \n",
    "\tx1, y1 = 60, 50\n",
    "\n",
    "\t# Function call \n",
    "\tDDA(x0, y0, x1, y1) \n",
    "\n"
   ]
  },
  {
   "cell_type": "code",
   "execution_count": null,
   "id": "55706dfb-93b0-4a19-ade9-397e43294ca4",
   "metadata": {},
   "outputs": [],
   "source": []
  }
 ],
 "metadata": {
  "kernelspec": {
   "display_name": "Python 3 (ipykernel)",
   "language": "python",
   "name": "python3"
  },
  "language_info": {
   "codemirror_mode": {
    "name": "ipython",
    "version": 3
   },
   "file_extension": ".py",
   "mimetype": "text/x-python",
   "name": "python",
   "nbconvert_exporter": "python",
   "pygments_lexer": "ipython3",
   "version": "3.12.0"
  }
 },
 "nbformat": 4,
 "nbformat_minor": 5
}
