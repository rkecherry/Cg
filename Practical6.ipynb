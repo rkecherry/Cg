{
 "cells": [
  {
   "cell_type": "code",
   "execution_count": 1,
   "id": "3128da01-16b5-4666-92b2-cacfb4f4d6f1",
   "metadata": {},
   "outputs": [
    {
     "name": "stdout",
     "output_type": "stream",
     "text": [
      "After translation:  [2 2 1]\n",
      "After rotation:  [0.70710678 4.94974747 1.        ]\n",
      "After scaling:  [3. 1. 1.]\n"
     ]
    }
   ],
   "source": [
    "import numpy as np\n",
    "def translate(point, tx, ty):\n",
    "    transformation_matrix = np.array([[1, 0, tx],\n",
    "                                      [0, 1, ty],\n",
    "                                      [0, 0, 1]])\n",
    "    return np.dot(transformation_matrix, point)\n",
    "\n",
    "def rotate(point, theta):\n",
    "    theta = np.radians(theta)\n",
    "    transformation_matrix = np.array([[np.cos(theta), -np.sin(theta), 0],\n",
    "                                      [np.sin(theta),  np.cos(theta), 0],\n",
    "                                      [0, 0, 1]])\n",
    "    return np.dot(transformation_matrix, point)\n",
    "\n",
    "def scale(point, sx, sy):\n",
    "    transformation_matrix = np.array([[sx, 0, 0],\n",
    "                                      [0, sy, 0],\n",
    "                                      [0, 0, 1]])\n",
    "    return np.dot(transformation_matrix, point)\n",
    "# Example usage:\n",
    "pointT = np.array([0, 0, 1])  # Homogeneous coordinates\n",
    "pointR = np.array([4,3,1])\n",
    "pointS = np.array([2,2,1])\n",
    "\n",
    "point = translate(pointT, 2, 2)\n",
    "print(\"After translation: \", point)\n",
    "\n",
    "point = rotate(pointR, 45)\n",
    "print(\"After rotation: \", point)\n",
    "\n",
    "point = scale(pointS, 1.5, 0.5)\n",
    "print(\"After scaling: \", point)"
   ]
  },
  {
   "cell_type": "code",
   "execution_count": null,
   "id": "65250633-e104-4db7-bd7f-d7cf55cf6667",
   "metadata": {},
   "outputs": [],
   "source": []
  }
 ],
 "metadata": {
  "kernelspec": {
   "display_name": "Python 3 (ipykernel)",
   "language": "python",
   "name": "python3"
  },
  "language_info": {
   "codemirror_mode": {
    "name": "ipython",
    "version": 3
   },
   "file_extension": ".py",
   "mimetype": "text/x-python",
   "name": "python",
   "nbconvert_exporter": "python",
   "pygments_lexer": "ipython3",
   "version": "3.12.0"
  }
 },
 "nbformat": 4,
 "nbformat_minor": 5
}
